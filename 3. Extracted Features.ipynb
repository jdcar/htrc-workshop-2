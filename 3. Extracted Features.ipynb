{
 "cells": [
  {
   "cell_type": "markdown",
   "id": "13be9ff3-1e12-44c8-8bae-f29f0d0d580e",
   "metadata": {},
   "source": [
    "# 3. Extracted Features"
   ]
  },
  {
   "cell_type": "markdown",
   "id": "deea6388-c2a7-4b65-915e-27db645bebee",
   "metadata": {
    "tags": []
   },
   "source": [
    "## Extracted features"
   ]
  },
  {
   "cell_type": "markdown",
   "id": "fa6bb74f-a8d2-4a25-a828-c3d5c418426e",
   "metadata": {},
   "source": [
    "The Extract Features Download Helper allows you to download extracted features files onto your computer.  Extract features are metadata and data elements extracted from volumes that are in the HTDL. \n",
    "\n",
    "<a href=\"https://wiki.htrc.illinois.edu/display/COM/HTRC+Derived+Datasets\">Hathi says</a>: \"Features are notable or informative characteristics of the text. The features include:\n",
    "\n",
    "- Token (word) counts that have been tagged with part-of-speech in order to disambiguate homophones and enable a greater variety of analyses\n",
    "- Various line-level information, such as the number of lines with text on each page, and a count of characters that start and end lines on each page\n",
    "- Header and footer identification for cleaner data. \n",
    "\n",
    "Within each Extracted Features file, features are provided per-page to make it possible to separate text from paratext. For instance, feature information could aid in identifying publishers' ads at the back of a book.\" \n",
    "\n",
    "HTRC also provides a Python library that allows for access to these features. Today, I will quickly share a method to use the Download Helper tool in Google's Colab environment, then show some features of the Python library. "
   ]
  },
  {
   "cell_type": "markdown",
   "id": "37b58be7-f7d2-44a5-b9cc-3db4bc80f444",
   "metadata": {},
   "source": [
    "## Access files by downloading entire EF datasets"
   ]
  },
  {
   "cell_type": "markdown",
   "id": "52382809-666f-4537-b8d5-f81fa60352fc",
   "metadata": {},
   "source": [
    "In order to use Google Colab for this feature you will need to connect it to your Google Drive. I recommend watching an introduction to Colab video, such as: https://www.youtube.com/watch?v=g0xu9DA4gDw&t=1s"
   ]
  },
  {
   "cell_type": "markdown",
   "id": "ec1ca7e2-f43a-447b-bc28-00c52ecef084",
   "metadata": {},
   "source": [
    "Instructions for mounting Google Drive to Colab: https://colab.research.google.com/notebooks/io.ipynb#scrollTo=c2W5A2px3doP"
   ]
  },
  {
   "cell_type": "markdown",
   "id": "9052e7ac-abbf-4890-92aa-7eff5d99b99c",
   "metadata": {},
   "source": [
    "I already setup a [Colab to use the download algorithm](https://colab.research.google.com/drive/1gm3uzsyGO6t7LvOPO5iyP4YVcA7vFCmX?usp=sharing). All you need to do is open the notebook and File > Save a copy in Drive to use and adapt it."
   ]
  },
  {
   "cell_type": "markdown",
   "id": "05b40715-461f-4466-9274-5c3f2bfb24de",
   "metadata": {},
   "source": [
    "## Access data using the HathiTrust Python library"
   ]
  },
  {
   "cell_type": "markdown",
   "id": "6647ffb2-b4f9-42d5-a914-a51a35140929",
   "metadata": {},
   "source": [
    "We will be using a notebook in Google colab adapted from HathiTrust documentation: https://colab.research.google.com/drive/1S77UyA-cqqkkkoC4JQhLaJxIsONZdWC7?usp=sharing . Colab notebooks are hosted in the cloud so we do not need to setup every computer for a Python environment. You will need a Google account to view this notebook."
   ]
  },
  {
   "cell_type": "markdown",
   "id": "787aabb4-1ca5-45af-9ea5-a790cfce40e5",
   "metadata": {},
   "source": [
    "The original notebook created by HathiTrust is here: https://colab.research.google.com/drive/1R_xvbd5AH_I6-tQ_Zfjz9imWJytQHuQJ#scrollTo=ZPoouYJB4f_Q "
   ]
  },
  {
   "cell_type": "markdown",
   "id": "434af524-7e48-4aba-b46d-a6ff8d0744f9",
   "metadata": {},
   "source": [
    "If you want to make a copy of the Colab to edit, open the notebook. Select File > Save a copy in Drive. YouTube has some good introductions to Colab: https://www.youtube.com/watch?v=g0xu9DA4gDw"
   ]
  },
  {
   "cell_type": "code",
   "execution_count": null,
   "id": "7c50751e-cba8-4714-8073-40498190f94a",
   "metadata": {},
   "outputs": [],
   "source": []
  }
 ],
 "metadata": {
  "kernelspec": {
   "display_name": "Python 3 (ipykernel)",
   "language": "python",
   "name": "python3"
  },
  "language_info": {
   "codemirror_mode": {
    "name": "ipython",
    "version": 3
   },
   "file_extension": ".py",
   "mimetype": "text/x-python",
   "name": "python",
   "nbconvert_exporter": "python",
   "pygments_lexer": "ipython3",
   "version": "3.10.3"
  }
 },
 "nbformat": 4,
 "nbformat_minor": 5
}
