{
 "cells": [
  {
   "cell_type": "markdown",
   "id": "13be9ff3-1e12-44c8-8bae-f29f0d0d580e",
   "metadata": {},
   "source": [
    "# 3. Extracted Features"
   ]
  },
  {
   "cell_type": "markdown",
   "id": "deea6388-c2a7-4b65-915e-27db645bebee",
   "metadata": {
    "tags": []
   },
   "source": [
    "## Extracted features"
   ]
  },
  {
   "cell_type": "markdown",
   "id": "fa6bb74f-a8d2-4a25-a828-c3d5c418426e",
   "metadata": {},
   "source": [
    "The Extract Features Download Helper allows you to download extracted features files onto your computer. HTRC also provides a Python library that allows for access to these features. Today, we are going to try out the Python library method."
   ]
  },
  {
   "cell_type": "markdown",
   "id": "6647ffb2-b4f9-42d5-a914-a51a35140929",
   "metadata": {},
   "source": [
    "We will be using a notebook in Google colab adapted from HathiTrust documentation: https://colab.research.google.com/drive/1S77UyA-cqqkkkoC4JQhLaJxIsONZdWC7?usp=sharing . Colab notebooks are hosted in the cloud so we do not need to setup every computer for a Python environment. You will need a Google account to view this notebook."
   ]
  },
  {
   "cell_type": "markdown",
   "id": "787aabb4-1ca5-45af-9ea5-a790cfce40e5",
   "metadata": {},
   "source": [
    "The original notebook created by HathiTrust is here: https://colab.research.google.com/drive/1R_xvbd5AH_I6-tQ_Zfjz9imWJytQHuQJ#scrollTo=ZPoouYJB4f_Q "
   ]
  },
  {
   "cell_type": "markdown",
   "id": "434af524-7e48-4aba-b46d-a6ff8d0744f9",
   "metadata": {},
   "source": [
    "If you want to make a copy of the Colab to edit, open the notebook. Select File > Save a copy in Drive. YouTube has some good introductions to Colab: https://www.youtube.com/watch?v=g0xu9DA4gDw"
   ]
  },
  {
   "cell_type": "code",
   "execution_count": null,
   "id": "7c50751e-cba8-4714-8073-40498190f94a",
   "metadata": {},
   "outputs": [],
   "source": []
  }
 ],
 "metadata": {
  "kernelspec": {
   "display_name": "Python 3 (ipykernel)",
   "language": "python",
   "name": "python3"
  },
  "language_info": {
   "codemirror_mode": {
    "name": "ipython",
    "version": 3
   },
   "file_extension": ".py",
   "mimetype": "text/x-python",
   "name": "python",
   "nbconvert_exporter": "python",
   "pygments_lexer": "ipython3",
   "version": "3.10.3"
  }
 },
 "nbformat": 4,
 "nbformat_minor": 5
}
