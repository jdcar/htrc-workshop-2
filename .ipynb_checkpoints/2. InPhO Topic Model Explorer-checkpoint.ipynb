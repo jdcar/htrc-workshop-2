{
 "cells": [
  {
   "cell_type": "markdown",
   "id": "281286ae-c6d8-4bde-8676-2248399abd39",
   "metadata": {},
   "source": [
    "# 2. InPhO Topic Model Explorer"
   ]
  },
  {
   "cell_type": "markdown",
   "id": "ea95a142-62bd-4723-a8c6-de001ed34c55",
   "metadata": {},
   "source": [
    "## What is Topic Modeling?"
   ]
  },
  {
   "cell_type": "markdown",
   "id": "15cdd3e4-36b2-40cf-8991-4245a96d34e9",
   "metadata": {},
   "source": [
    "Topic modeling is a machine learning tool that finds patterns and infers topics from a large text dataset. The algorithm is trying to identifier the topics in the dataset and the strength of that topic overall. "
   ]
  },
  {
   "cell_type": "markdown",
   "id": "3c265f99-1420-40f2-82c2-dd7c7e75f44e",
   "metadata": {},
   "source": [
    "HathiTrust has a built-in version of the [InPho Topic Model Explorer](https://www.markdownguide.org/cheat-sheet/) that makes it easy to get started with Topic Modeling. HTRC even provides a way to download the data and run InPho locally. Today we're going to stay in the HTRC and show the basics of running this algorithm."
   ]
  },
  {
   "cell_type": "markdown",
   "id": "eefa53c2-5f77-41e1-8c71-748c04205897",
   "metadata": {},
   "source": [
    "## Running the model\n",
    "\n",
    "Note that there is a 3000 volumes OR 3GB limit on this algorithm."
   ]
  },
  {
   "cell_type": "markdown",
   "id": "4b19cad8-0ce6-46af-8ac3-53a54ed72621",
   "metadata": {},
   "source": [
    "This algorithm \"Uses a machine learning process called topic modeling to group the words in your workset into \"topics\" most prevalent in the text.\""
   ]
  },
  {
   "cell_type": "markdown",
   "id": "43f4b191-ee76-470d-89d6-cc888f7e6d65",
   "metadata": {},
   "source": [
    "![alt text](topicmodelform.png)"
   ]
  },
  {
   "cell_type": "markdown",
   "id": "d233176e-d861-4ea8-aa11-0b77eb7a4e17",
   "metadata": {},
   "source": [
    "### 1. Number of iterations"
   ]
  },
  {
   "cell_type": "markdown",
   "id": "d571de00-488f-453e-8c2f-bf483bd10649",
   "metadata": {},
   "source": [
    "Number of iterations depends on what we are trying to learn. The default is 200: \n",
    "\n",
    "\"The number of iterations determines the number of samples that topic model will use to conduct its analysis. If you increase the number of iterations, your topic model will take longer to run, but you could potentially get higher quality results. Determining the appropriate number of iterations depends on the size of your dataset and on your research questions. Are you using the topic models to find general trends in your dataset? Are you looking for outliers? These kinds of questions can help you decide on an appropriate number of iterations.\" (https://digitalfellows.commons.gc.cuny.edu/2020/05/15/working-with-hathitrust-data-part-2/)"
   ]
  },
  {
   "cell_type": "markdown",
   "id": "e0046a3e-c6ad-497d-b0b7-56e5af8cbecd",
   "metadata": {},
   "source": [
    "Setting iterations to 200 is faster and better for exploratory research. A higher number, like 1000, will yield more accurate results but will take longer to process. If you are following along, set the number low."
   ]
  },
  {
   "cell_type": "markdown",
   "id": "fc8e309d-ecfd-454b-912e-5d89cff1a90c",
   "metadata": {},
   "source": [
    "I ran this twice: once with 200 iterations and again with 1000. "
   ]
  },
  {
   "cell_type": "markdown",
   "id": "a8bef015-2e15-4f79-af34-bd729425b44f",
   "metadata": {},
   "source": [
    "### 2. Number of Topics"
   ]
  },
  {
   "cell_type": "markdown",
   "id": "0e5559cc-77b6-4c4d-b45f-aff07530913e",
   "metadata": {},
   "source": [
    "## Result"
   ]
  },
  {
   "cell_type": "markdown",
   "id": "948082cd-7a3b-49d5-a2fd-2f766c72129d",
   "metadata": {},
   "source": [
    "![topic results](./img/topic-model.PNG)"
   ]
  },
  {
   "cell_type": "markdown",
   "id": "f9357206-4e17-43b5-a33b-ad5288ee19b8",
   "metadata": {},
   "source": [
    "There are four tabs in the results: topics.html, cluster.csv, workset.tez, and topics.json. We will go over each."
   ]
  },
  {
   "cell_type": "markdown",
   "id": "f1eedce6-af1c-4360-9ca2-3e16796f23e4",
   "metadata": {},
   "source": [
    "#### topics.html"
   ]
  },
  {
   "cell_type": "markdown",
   "id": "6d1a2a7f-5411-4274-9883-d66f696da7a2",
   "metadata": {},
   "source": [
    "This is the visualization output. It displays the topics as bubbles. Open this in a new tab."
   ]
  },
  {
   "cell_type": "markdown",
   "id": "169d3a4f-c051-45b4-9c30-2a3a95afdba7",
   "metadata": {},
   "source": [
    "Collistion detection is a display option that removes the overlap between bubbles."
   ]
  },
  {
   "cell_type": "markdown",
   "id": "e31831c4-947b-45a6-8360-c0c6f19adee6",
   "metadata": {},
   "source": [
    "#### cluster.csv"
   ]
  },
  {
   "cell_type": "markdown",
   "id": "01865881-3976-43e5-8f74-20aa64e221f8",
   "metadata": {},
   "source": [
    "The csv provides information about the display output. The x-and y-axis information, the number of topics, the topic number, and the cluster number."
   ]
  },
  {
   "cell_type": "markdown",
   "id": "ca80f115-dc44-49f2-b706-ac759d9eca81",
   "metadata": {},
   "source": [
    "#### workset.tez"
   ]
  },
  {
   "cell_type": "markdown",
   "id": "8f9abadb-4a2d-4397-9d8f-44079fe54c7d",
   "metadata": {},
   "source": [
    "This allows you to download the result data"
   ]
  },
  {
   "cell_type": "markdown",
   "id": "915577f9-d1f1-40b2-aa86-c639a3b27b64",
   "metadata": {},
   "source": [
    "#### topics.json"
   ]
  },
  {
   "cell_type": "markdown",
   "id": "c631d14d-a30d-4691-bd84-54400212512b",
   "metadata": {},
   "source": [
    "This is a list of each topic in JSON format. The number (looks like 0.006525753997266293) is the probability of the number appearing in the text."
   ]
  },
  {
   "cell_type": "code",
   "execution_count": null,
   "id": "b822e6e9-8ce2-4a06-bff7-be88121b3453",
   "metadata": {},
   "outputs": [],
   "source": []
  }
 ],
 "metadata": {
  "kernelspec": {
   "display_name": "Python 3 (ipykernel)",
   "language": "python",
   "name": "python3"
  },
  "language_info": {
   "codemirror_mode": {
    "name": "ipython",
    "version": 3
   },
   "file_extension": ".py",
   "mimetype": "text/x-python",
   "name": "python",
   "nbconvert_exporter": "python",
   "pygments_lexer": "ipython3",
   "version": "3.10.3"
  }
 },
 "nbformat": 4,
 "nbformat_minor": 5
}
