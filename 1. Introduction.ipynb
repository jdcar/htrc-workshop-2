{
 "cells": [
  {
   "cell_type": "markdown",
   "id": "53674a9d-b6c1-4336-aa65-dcae6de5b7e3",
   "metadata": {},
   "source": [
    "# 1. HTRC 2: Advanced Algorithms"
   ]
  },
  {
   "cell_type": "markdown",
   "id": "eafc43f8-372d-452a-83de-8b4a6b212e93",
   "metadata": {},
   "source": [
    "There are four built-in algorithms in the HTRC:\n",
    "\n",
    "<ul>\n",
    "<li>Extracted Features Download Helper (v3.1)</li>\n",
    "<li>InPhO Topic Model Explorer (v1.0b225)</li>\n",
    "<li>Named Entity Recognizer (v2.0)</li>\n",
    "<li>Token Count and Tag Cloud Creator (v2.0)</li></ul>"
   ]
  },
  {
   "cell_type": "markdown",
   "id": "1c183f91-9f7f-4955-82a3-d950f0f07e04",
   "metadata": {},
   "source": [
    "The <strong> Extracted Features Download Helper</strong> and the <strong>InPhO Topic Model Explorer</strong> are the more advanced tools we will go over today. We will not cover Data Capsules as a part as a part of this workshop. If you want a workshop on Data Capsules indicate so in the survey! "
   ]
  },
  {
   "cell_type": "markdown",
   "id": "e31e540e-8340-4f40-a7e3-5aacfe82064f",
   "metadata": {},
   "source": [
    "HathiTrust Research Center allows for us to do some exploratory text analysis without needing to know how to code. Complex text analysis does require some knowledge of coding languages, such as Python or R."
   ]
  },
  {
   "cell_type": "markdown",
   "id": "836b0d2c-4744-4862-95e6-872ae701d2da",
   "metadata": {},
   "source": [
    "## Why these tools?"
   ]
  },
  {
   "cell_type": "markdown",
   "id": "e19002e9-42e5-4d8e-a7eb-0ab093fa757b",
   "metadata": {},
   "source": [
    "Extract Features and <a href=\"https://inpho.github.io/topic-explorer/intro.html\">InPhO Topic Model Explorer </a>are both tools that can be used for topic modeling. Topic modeling is the use of computational analysis on large amounts of text. The topic explorer creates a topic visualization in the HTRC, similar to how we were able to create a Tag Cloud. The Extract Features allows us to pull metadata and tokens out of text using simple Python programming."
   ]
  },
  {
   "cell_type": "markdown",
   "id": "7b956453-de0e-498d-8608-b78901129447",
   "metadata": {},
   "source": [
    "Example of Topic Modeling: \n",
    "- Mining the Dispatch project: https://dsl.richmond.edu/dispatch/ "
   ]
  },
  {
   "cell_type": "code",
   "execution_count": null,
   "id": "e5c50ab3-cd2e-4f01-a192-3d9bfde4668a",
   "metadata": {},
   "outputs": [],
   "source": []
  }
 ],
 "metadata": {
  "kernelspec": {
   "display_name": "Python 3 (ipykernel)",
   "language": "python",
   "name": "python3"
  },
  "language_info": {
   "codemirror_mode": {
    "name": "ipython",
    "version": 3
   },
   "file_extension": ".py",
   "mimetype": "text/x-python",
   "name": "python",
   "nbconvert_exporter": "python",
   "pygments_lexer": "ipython3",
   "version": "3.10.3"
  }
 },
 "nbformat": 4,
 "nbformat_minor": 5
}
